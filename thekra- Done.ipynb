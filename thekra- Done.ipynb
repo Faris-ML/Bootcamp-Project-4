{
 "cells": [
  {
   "cell_type": "code",
   "execution_count": 1,
   "id": "29878316",
   "metadata": {},
   "outputs": [],
   "source": [
    "import pandas as pd\n",
    "import numpy as np\n",
    "import matplotlib.pyplot as plt\n",
    "import seaborn as sns\n",
    "import plotly as px\n",
    "from sklearn.metrics import confusion_matrix,f1_score,accuracy_score,classification_report\n",
    "from sklearn.model_selection import train_test_split"
   ]
  },
  {
   "cell_type": "code",
   "execution_count": 2,
   "id": "7aecccb9",
   "metadata": {},
   "outputs": [],
   "source": [
    "dataset=pd.read_csv('Job_placement_Data.csv')"
   ]
  },
  {
   "cell_type": "code",
   "execution_count": 3,
   "id": "036be774",
   "metadata": {},
   "outputs": [
    {
     "data": {
      "text/html": [
       "<div>\n",
       "<style scoped>\n",
       "    .dataframe tbody tr th:only-of-type {\n",
       "        vertical-align: middle;\n",
       "    }\n",
       "\n",
       "    .dataframe tbody tr th {\n",
       "        vertical-align: top;\n",
       "    }\n",
       "\n",
       "    .dataframe thead th {\n",
       "        text-align: right;\n",
       "    }\n",
       "</style>\n",
       "<table border=\"1\" class=\"dataframe\">\n",
       "  <thead>\n",
       "    <tr style=\"text-align: right;\">\n",
       "      <th></th>\n",
       "      <th>gender</th>\n",
       "      <th>ssc_percentage</th>\n",
       "      <th>ssc_board</th>\n",
       "      <th>hsc_percentage</th>\n",
       "      <th>hsc_board</th>\n",
       "      <th>hsc_subject</th>\n",
       "      <th>degree_percentage</th>\n",
       "      <th>undergrad_degree</th>\n",
       "      <th>work_experience</th>\n",
       "      <th>emp_test_percentage</th>\n",
       "      <th>specialisation</th>\n",
       "      <th>mba_percent</th>\n",
       "      <th>status</th>\n",
       "    </tr>\n",
       "  </thead>\n",
       "  <tbody>\n",
       "    <tr>\n",
       "      <th>0</th>\n",
       "      <td>M</td>\n",
       "      <td>67.00</td>\n",
       "      <td>Others</td>\n",
       "      <td>91.00</td>\n",
       "      <td>Others</td>\n",
       "      <td>Commerce</td>\n",
       "      <td>58.00</td>\n",
       "      <td>Sci&amp;Tech</td>\n",
       "      <td>No</td>\n",
       "      <td>55.0</td>\n",
       "      <td>Mkt&amp;HR</td>\n",
       "      <td>58.80</td>\n",
       "      <td>Placed</td>\n",
       "    </tr>\n",
       "    <tr>\n",
       "      <th>1</th>\n",
       "      <td>M</td>\n",
       "      <td>79.33</td>\n",
       "      <td>Central</td>\n",
       "      <td>78.33</td>\n",
       "      <td>Others</td>\n",
       "      <td>Science</td>\n",
       "      <td>77.48</td>\n",
       "      <td>Sci&amp;Tech</td>\n",
       "      <td>Yes</td>\n",
       "      <td>86.5</td>\n",
       "      <td>Mkt&amp;Fin</td>\n",
       "      <td>66.28</td>\n",
       "      <td>Placed</td>\n",
       "    </tr>\n",
       "    <tr>\n",
       "      <th>2</th>\n",
       "      <td>M</td>\n",
       "      <td>65.00</td>\n",
       "      <td>Central</td>\n",
       "      <td>68.00</td>\n",
       "      <td>Central</td>\n",
       "      <td>Arts</td>\n",
       "      <td>64.00</td>\n",
       "      <td>Comm&amp;Mgmt</td>\n",
       "      <td>No</td>\n",
       "      <td>75.0</td>\n",
       "      <td>Mkt&amp;Fin</td>\n",
       "      <td>57.80</td>\n",
       "      <td>Placed</td>\n",
       "    </tr>\n",
       "    <tr>\n",
       "      <th>3</th>\n",
       "      <td>M</td>\n",
       "      <td>56.00</td>\n",
       "      <td>Central</td>\n",
       "      <td>52.00</td>\n",
       "      <td>Central</td>\n",
       "      <td>Science</td>\n",
       "      <td>52.00</td>\n",
       "      <td>Sci&amp;Tech</td>\n",
       "      <td>No</td>\n",
       "      <td>66.0</td>\n",
       "      <td>Mkt&amp;HR</td>\n",
       "      <td>59.43</td>\n",
       "      <td>Not Placed</td>\n",
       "    </tr>\n",
       "    <tr>\n",
       "      <th>4</th>\n",
       "      <td>M</td>\n",
       "      <td>85.80</td>\n",
       "      <td>Central</td>\n",
       "      <td>73.60</td>\n",
       "      <td>Central</td>\n",
       "      <td>Commerce</td>\n",
       "      <td>73.30</td>\n",
       "      <td>Comm&amp;Mgmt</td>\n",
       "      <td>No</td>\n",
       "      <td>96.8</td>\n",
       "      <td>Mkt&amp;Fin</td>\n",
       "      <td>55.50</td>\n",
       "      <td>Placed</td>\n",
       "    </tr>\n",
       "  </tbody>\n",
       "</table>\n",
       "</div>"
      ],
      "text/plain": [
       "  gender  ssc_percentage ssc_board  hsc_percentage hsc_board hsc_subject  \\\n",
       "0      M           67.00    Others           91.00    Others    Commerce   \n",
       "1      M           79.33   Central           78.33    Others     Science   \n",
       "2      M           65.00   Central           68.00   Central        Arts   \n",
       "3      M           56.00   Central           52.00   Central     Science   \n",
       "4      M           85.80   Central           73.60   Central    Commerce   \n",
       "\n",
       "   degree_percentage undergrad_degree work_experience  emp_test_percentage  \\\n",
       "0              58.00         Sci&Tech              No                 55.0   \n",
       "1              77.48         Sci&Tech             Yes                 86.5   \n",
       "2              64.00        Comm&Mgmt              No                 75.0   \n",
       "3              52.00         Sci&Tech              No                 66.0   \n",
       "4              73.30        Comm&Mgmt              No                 96.8   \n",
       "\n",
       "  specialisation  mba_percent      status  \n",
       "0         Mkt&HR        58.80      Placed  \n",
       "1        Mkt&Fin        66.28      Placed  \n",
       "2        Mkt&Fin        57.80      Placed  \n",
       "3         Mkt&HR        59.43  Not Placed  \n",
       "4        Mkt&Fin        55.50      Placed  "
      ]
     },
     "execution_count": 3,
     "metadata": {},
     "output_type": "execute_result"
    }
   ],
   "source": [
    "dataset.head()"
   ]
  },
  {
   "cell_type": "code",
   "execution_count": 4,
   "id": "f9e668b3",
   "metadata": {},
   "outputs": [],
   "source": [
    "dataset=dataset.drop(columns=['ssc_board','hsc_board'])"
   ]
  },
  {
   "cell_type": "code",
   "execution_count": 5,
   "id": "623d9d00",
   "metadata": {},
   "outputs": [
    {
     "data": {
      "text/plain": [
       "(215, 11)"
      ]
     },
     "execution_count": 5,
     "metadata": {},
     "output_type": "execute_result"
    }
   ],
   "source": [
    "dataset.shape"
   ]
  },
  {
   "cell_type": "code",
   "execution_count": 6,
   "id": "ae58509b",
   "metadata": {},
   "outputs": [
    {
     "data": {
      "text/plain": [
       "gender                 0\n",
       "ssc_percentage         0\n",
       "hsc_percentage         0\n",
       "hsc_subject            0\n",
       "degree_percentage      0\n",
       "undergrad_degree       0\n",
       "work_experience        0\n",
       "emp_test_percentage    0\n",
       "specialisation         0\n",
       "mba_percent            0\n",
       "status                 0\n",
       "dtype: int64"
      ]
     },
     "execution_count": 6,
     "metadata": {},
     "output_type": "execute_result"
    }
   ],
   "source": [
    "dataset.isna().sum()"
   ]
  },
  {
   "cell_type": "code",
   "execution_count": 7,
   "id": "0684c6ae",
   "metadata": {},
   "outputs": [
    {
     "data": {
      "text/plain": [
       "0"
      ]
     },
     "execution_count": 7,
     "metadata": {},
     "output_type": "execute_result"
    }
   ],
   "source": [
    "dataset.duplicated().sum()"
   ]
  },
  {
   "cell_type": "code",
   "execution_count": 8,
   "id": "d8b429d6",
   "metadata": {},
   "outputs": [
    {
     "name": "stdout",
     "output_type": "stream",
     "text": [
      "<class 'pandas.core.frame.DataFrame'>\n",
      "RangeIndex: 215 entries, 0 to 214\n",
      "Data columns (total 11 columns):\n",
      " #   Column               Non-Null Count  Dtype  \n",
      "---  ------               --------------  -----  \n",
      " 0   gender               215 non-null    object \n",
      " 1   ssc_percentage       215 non-null    float64\n",
      " 2   hsc_percentage       215 non-null    float64\n",
      " 3   hsc_subject          215 non-null    object \n",
      " 4   degree_percentage    215 non-null    float64\n",
      " 5   undergrad_degree     215 non-null    object \n",
      " 6   work_experience      215 non-null    object \n",
      " 7   emp_test_percentage  215 non-null    float64\n",
      " 8   specialisation       215 non-null    object \n",
      " 9   mba_percent          215 non-null    float64\n",
      " 10  status               215 non-null    object \n",
      "dtypes: float64(5), object(6)\n",
      "memory usage: 18.6+ KB\n"
     ]
    }
   ],
   "source": [
    "dataset.info()"
   ]
  },
  {
   "cell_type": "code",
   "execution_count": 9,
   "id": "1fd74a5b",
   "metadata": {},
   "outputs": [
    {
     "name": "stdout",
     "output_type": "stream",
     "text": [
      "column  status  :  ['Placed' 'Not Placed']\n",
      "column  specialisation  :  ['Mkt&HR' 'Mkt&Fin']\n",
      "column  work_experience  :  ['No' 'Yes']\n",
      "column  undergrad_degree  :  ['Sci&Tech' 'Comm&Mgmt' 'Others']\n",
      "column  hsc_subject  :  ['Commerce' 'Science' 'Arts']\n",
      "column  gender  :  ['M' 'F']\n"
     ]
    }
   ],
   "source": [
    "for i in ['status','specialisation','work_experience','undergrad_degree','hsc_subject','gender']:\n",
    "    print('column ',i,' : ',dataset[i].unique())"
   ]
  },
  {
   "cell_type": "code",
   "execution_count": 10,
   "id": "43ae8468",
   "metadata": {},
   "outputs": [
    {
     "data": {
      "text/html": [
       "<div>\n",
       "<style scoped>\n",
       "    .dataframe tbody tr th:only-of-type {\n",
       "        vertical-align: middle;\n",
       "    }\n",
       "\n",
       "    .dataframe tbody tr th {\n",
       "        vertical-align: top;\n",
       "    }\n",
       "\n",
       "    .dataframe thead th {\n",
       "        text-align: right;\n",
       "    }\n",
       "</style>\n",
       "<table border=\"1\" class=\"dataframe\">\n",
       "  <thead>\n",
       "    <tr style=\"text-align: right;\">\n",
       "      <th></th>\n",
       "      <th>ssc_percentage</th>\n",
       "      <th>hsc_percentage</th>\n",
       "      <th>degree_percentage</th>\n",
       "      <th>emp_test_percentage</th>\n",
       "      <th>mba_percent</th>\n",
       "    </tr>\n",
       "  </thead>\n",
       "  <tbody>\n",
       "    <tr>\n",
       "      <th>count</th>\n",
       "      <td>215.000000</td>\n",
       "      <td>215.000000</td>\n",
       "      <td>215.000000</td>\n",
       "      <td>215.000000</td>\n",
       "      <td>215.000000</td>\n",
       "    </tr>\n",
       "    <tr>\n",
       "      <th>mean</th>\n",
       "      <td>67.303395</td>\n",
       "      <td>66.333163</td>\n",
       "      <td>66.370186</td>\n",
       "      <td>72.100558</td>\n",
       "      <td>62.278186</td>\n",
       "    </tr>\n",
       "    <tr>\n",
       "      <th>std</th>\n",
       "      <td>10.827205</td>\n",
       "      <td>10.897509</td>\n",
       "      <td>7.358743</td>\n",
       "      <td>13.275956</td>\n",
       "      <td>5.833385</td>\n",
       "    </tr>\n",
       "    <tr>\n",
       "      <th>min</th>\n",
       "      <td>40.890000</td>\n",
       "      <td>37.000000</td>\n",
       "      <td>50.000000</td>\n",
       "      <td>50.000000</td>\n",
       "      <td>51.210000</td>\n",
       "    </tr>\n",
       "    <tr>\n",
       "      <th>25%</th>\n",
       "      <td>60.600000</td>\n",
       "      <td>60.900000</td>\n",
       "      <td>61.000000</td>\n",
       "      <td>60.000000</td>\n",
       "      <td>57.945000</td>\n",
       "    </tr>\n",
       "    <tr>\n",
       "      <th>50%</th>\n",
       "      <td>67.000000</td>\n",
       "      <td>65.000000</td>\n",
       "      <td>66.000000</td>\n",
       "      <td>71.000000</td>\n",
       "      <td>62.000000</td>\n",
       "    </tr>\n",
       "    <tr>\n",
       "      <th>75%</th>\n",
       "      <td>75.700000</td>\n",
       "      <td>73.000000</td>\n",
       "      <td>72.000000</td>\n",
       "      <td>83.500000</td>\n",
       "      <td>66.255000</td>\n",
       "    </tr>\n",
       "    <tr>\n",
       "      <th>max</th>\n",
       "      <td>89.400000</td>\n",
       "      <td>97.700000</td>\n",
       "      <td>91.000000</td>\n",
       "      <td>98.000000</td>\n",
       "      <td>77.890000</td>\n",
       "    </tr>\n",
       "  </tbody>\n",
       "</table>\n",
       "</div>"
      ],
      "text/plain": [
       "       ssc_percentage  hsc_percentage  degree_percentage  emp_test_percentage  \\\n",
       "count      215.000000      215.000000         215.000000           215.000000   \n",
       "mean        67.303395       66.333163          66.370186            72.100558   \n",
       "std         10.827205       10.897509           7.358743            13.275956   \n",
       "min         40.890000       37.000000          50.000000            50.000000   \n",
       "25%         60.600000       60.900000          61.000000            60.000000   \n",
       "50%         67.000000       65.000000          66.000000            71.000000   \n",
       "75%         75.700000       73.000000          72.000000            83.500000   \n",
       "max         89.400000       97.700000          91.000000            98.000000   \n",
       "\n",
       "       mba_percent  \n",
       "count   215.000000  \n",
       "mean     62.278186  \n",
       "std       5.833385  \n",
       "min      51.210000  \n",
       "25%      57.945000  \n",
       "50%      62.000000  \n",
       "75%      66.255000  \n",
       "max      77.890000  "
      ]
     },
     "execution_count": 10,
     "metadata": {},
     "output_type": "execute_result"
    }
   ],
   "source": [
    "dataset.describe()"
   ]
  },
  {
   "cell_type": "code",
   "execution_count": 11,
   "id": "f0a94c7c",
   "metadata": {},
   "outputs": [
    {
     "data": {
      "text/html": [
       "<div>\n",
       "<style scoped>\n",
       "    .dataframe tbody tr th:only-of-type {\n",
       "        vertical-align: middle;\n",
       "    }\n",
       "\n",
       "    .dataframe tbody tr th {\n",
       "        vertical-align: top;\n",
       "    }\n",
       "\n",
       "    .dataframe thead th {\n",
       "        text-align: right;\n",
       "    }\n",
       "</style>\n",
       "<table border=\"1\" class=\"dataframe\">\n",
       "  <thead>\n",
       "    <tr style=\"text-align: right;\">\n",
       "      <th></th>\n",
       "      <th>ssc_percentage</th>\n",
       "      <th>hsc_percentage</th>\n",
       "      <th>degree_percentage</th>\n",
       "      <th>emp_test_percentage</th>\n",
       "      <th>mba_percent</th>\n",
       "    </tr>\n",
       "  </thead>\n",
       "  <tbody>\n",
       "    <tr>\n",
       "      <th>ssc_percentage</th>\n",
       "      <td>1.000000</td>\n",
       "      <td>0.511472</td>\n",
       "      <td>0.538404</td>\n",
       "      <td>0.261993</td>\n",
       "      <td>0.388478</td>\n",
       "    </tr>\n",
       "    <tr>\n",
       "      <th>hsc_percentage</th>\n",
       "      <td>0.511472</td>\n",
       "      <td>1.000000</td>\n",
       "      <td>0.434206</td>\n",
       "      <td>0.245113</td>\n",
       "      <td>0.354823</td>\n",
       "    </tr>\n",
       "    <tr>\n",
       "      <th>degree_percentage</th>\n",
       "      <td>0.538404</td>\n",
       "      <td>0.434206</td>\n",
       "      <td>1.000000</td>\n",
       "      <td>0.224470</td>\n",
       "      <td>0.402364</td>\n",
       "    </tr>\n",
       "    <tr>\n",
       "      <th>emp_test_percentage</th>\n",
       "      <td>0.261993</td>\n",
       "      <td>0.245113</td>\n",
       "      <td>0.224470</td>\n",
       "      <td>1.000000</td>\n",
       "      <td>0.218055</td>\n",
       "    </tr>\n",
       "    <tr>\n",
       "      <th>mba_percent</th>\n",
       "      <td>0.388478</td>\n",
       "      <td>0.354823</td>\n",
       "      <td>0.402364</td>\n",
       "      <td>0.218055</td>\n",
       "      <td>1.000000</td>\n",
       "    </tr>\n",
       "  </tbody>\n",
       "</table>\n",
       "</div>"
      ],
      "text/plain": [
       "                     ssc_percentage  hsc_percentage  degree_percentage  \\\n",
       "ssc_percentage             1.000000        0.511472           0.538404   \n",
       "hsc_percentage             0.511472        1.000000           0.434206   \n",
       "degree_percentage          0.538404        0.434206           1.000000   \n",
       "emp_test_percentage        0.261993        0.245113           0.224470   \n",
       "mba_percent                0.388478        0.354823           0.402364   \n",
       "\n",
       "                     emp_test_percentage  mba_percent  \n",
       "ssc_percentage                  0.261993     0.388478  \n",
       "hsc_percentage                  0.245113     0.354823  \n",
       "degree_percentage               0.224470     0.402364  \n",
       "emp_test_percentage             1.000000     0.218055  \n",
       "mba_percent                     0.218055     1.000000  "
      ]
     },
     "execution_count": 11,
     "metadata": {},
     "output_type": "execute_result"
    }
   ],
   "source": [
    "#dataset.corr(numeric_only=True)\n",
    "dataset.corr()"
   ]
  },
  {
   "cell_type": "code",
   "execution_count": 12,
   "id": "ec895cb6",
   "metadata": {},
   "outputs": [
    {
     "data": {
      "image/png": "[encoded data removed]",
      "text/plain": [
       "<Figure size 640x480 with 1 Axes>"
      ]
     },
     "metadata": {},
     "output_type": "display_data"
    }
   ],
   "source": [
    "sns.histplot(dataset,x='status');"
   ]
  },
  {
   "cell_type": "code",
   "execution_count": 13,
   "id": "c893b883",
   "metadata": {},
   "outputs": [],
   "source": [
    "X = dataset.drop(columns='status',axis=1)\n",
    "y = dataset['status']"
   ]
  },
  {
   "cell_type": "markdown",
   "id": "bade5d90",
   "metadata": {},
   "source": [
    "# Enter your code here"
   ]
  },
  {
   "cell_type": "code",
   "execution_count": 14,
   "id": "a538a2aa-aaa4-45f8-ae5a-97ef270ae0ca",
   "metadata": {},
   "outputs": [],
   "source": [
    "%matplotlib inline\n",
    "import warnings\n",
    "warnings.filterwarnings(\"ignore\")\n",
    "from sklearn import preprocessing\n",
    "from sklearn.tree import DecisionTreeClassifier\n",
    "from sklearn.metrics import plot_confusion_matrix\n",
    "from sklearn.preprocessing import StandardScaler\n",
    "from sklearn.preprocessing import LabelEncoder\n",
    "from sklearn.ensemble import AdaBoostClassifier\n",
    "from xgboost import XGBClassifier\n",
    "import xgboost"
   ]
  },
  {
   "cell_type": "code",
   "execution_count": 15,
   "id": "a3c38c5d-2a89-47e6-8e99-b0bb1b22f9e5",
   "metadata": {},
   "outputs": [],
   "source": [
    "# !pip install xgboost"
   ]
  },
  {
   "cell_type": "code",
   "execution_count": 16,
   "id": "062e51b8-3fd2-487f-940f-11554e803757",
   "metadata": {},
   "outputs": [],
   "source": [
    " # conda install -c conda-forge xgboost=0.6a2"
   ]
  },
  {
   "cell_type": "code",
   "execution_count": 17,
   "id": "c711fc87",
   "metadata": {},
   "outputs": [],
   "source": [
    "# Split the dataset into Train and Test sets with test_size=25% and random_state=25.\n",
    "X_train, X_test, y_train, y_test = train_test_split(X, y, test_size=0.25, random_state=25)"
   ]
  },
  {
   "cell_type": "code",
   "execution_count": 18,
   "id": "4e7f7c04-7722-46d2-80b3-a60ccb59c417",
   "metadata": {},
   "outputs": [
    {
     "data": {
      "text/html": [
       "<div>\n",
       "<style scoped>\n",
       "    .dataframe tbody tr th:only-of-type {\n",
       "        vertical-align: middle;\n",
       "    }\n",
       "\n",
       "    .dataframe tbody tr th {\n",
       "        vertical-align: top;\n",
       "    }\n",
       "\n",
       "    .dataframe thead th {\n",
       "        text-align: right;\n",
       "    }\n",
       "</style>\n",
       "<table border=\"1\" class=\"dataframe\">\n",
       "  <thead>\n",
       "    <tr style=\"text-align: right;\">\n",
       "      <th></th>\n",
       "      <th>gender</th>\n",
       "      <th>ssc_percentage</th>\n",
       "      <th>hsc_percentage</th>\n",
       "      <th>hsc_subject</th>\n",
       "      <th>degree_percentage</th>\n",
       "      <th>undergrad_degree</th>\n",
       "      <th>work_experience</th>\n",
       "      <th>emp_test_percentage</th>\n",
       "      <th>specialisation</th>\n",
       "      <th>mba_percent</th>\n",
       "    </tr>\n",
       "  </thead>\n",
       "  <tbody>\n",
       "    <tr>\n",
       "      <th>43</th>\n",
       "      <td>M</td>\n",
       "      <td>87.0</td>\n",
       "      <td>87.00</td>\n",
       "      <td>Commerce</td>\n",
       "      <td>68.0</td>\n",
       "      <td>Comm&amp;Mgmt</td>\n",
       "      <td>No</td>\n",
       "      <td>95.00</td>\n",
       "      <td>Mkt&amp;HR</td>\n",
       "      <td>62.90</td>\n",
       "    </tr>\n",
       "    <tr>\n",
       "      <th>180</th>\n",
       "      <td>M</td>\n",
       "      <td>65.0</td>\n",
       "      <td>71.50</td>\n",
       "      <td>Commerce</td>\n",
       "      <td>62.8</td>\n",
       "      <td>Comm&amp;Mgmt</td>\n",
       "      <td>Yes</td>\n",
       "      <td>57.00</td>\n",
       "      <td>Mkt&amp;Fin</td>\n",
       "      <td>56.60</td>\n",
       "    </tr>\n",
       "    <tr>\n",
       "      <th>34</th>\n",
       "      <td>M</td>\n",
       "      <td>62.0</td>\n",
       "      <td>51.00</td>\n",
       "      <td>Science</td>\n",
       "      <td>52.0</td>\n",
       "      <td>Others</td>\n",
       "      <td>No</td>\n",
       "      <td>68.44</td>\n",
       "      <td>Mkt&amp;HR</td>\n",
       "      <td>62.77</td>\n",
       "    </tr>\n",
       "    <tr>\n",
       "      <th>41</th>\n",
       "      <td>F</td>\n",
       "      <td>74.0</td>\n",
       "      <td>63.16</td>\n",
       "      <td>Commerce</td>\n",
       "      <td>65.0</td>\n",
       "      <td>Comm&amp;Mgmt</td>\n",
       "      <td>Yes</td>\n",
       "      <td>65.00</td>\n",
       "      <td>Mkt&amp;HR</td>\n",
       "      <td>69.76</td>\n",
       "    </tr>\n",
       "    <tr>\n",
       "      <th>157</th>\n",
       "      <td>M</td>\n",
       "      <td>66.5</td>\n",
       "      <td>62.50</td>\n",
       "      <td>Commerce</td>\n",
       "      <td>60.9</td>\n",
       "      <td>Comm&amp;Mgmt</td>\n",
       "      <td>No</td>\n",
       "      <td>93.40</td>\n",
       "      <td>Mkt&amp;Fin</td>\n",
       "      <td>55.03</td>\n",
       "    </tr>\n",
       "  </tbody>\n",
       "</table>\n",
       "</div>"
      ],
      "text/plain": [
       "    gender  ssc_percentage  hsc_percentage hsc_subject  degree_percentage  \\\n",
       "43       M            87.0           87.00    Commerce               68.0   \n",
       "180      M            65.0           71.50    Commerce               62.8   \n",
       "34       M            62.0           51.00     Science               52.0   \n",
       "41       F            74.0           63.16    Commerce               65.0   \n",
       "157      M            66.5           62.50    Commerce               60.9   \n",
       "\n",
       "    undergrad_degree work_experience  emp_test_percentage specialisation  \\\n",
       "43         Comm&Mgmt              No                95.00         Mkt&HR   \n",
       "180        Comm&Mgmt             Yes                57.00        Mkt&Fin   \n",
       "34            Others              No                68.44         Mkt&HR   \n",
       "41         Comm&Mgmt             Yes                65.00         Mkt&HR   \n",
       "157        Comm&Mgmt              No                93.40        Mkt&Fin   \n",
       "\n",
       "     mba_percent  \n",
       "43         62.90  \n",
       "180        56.60  \n",
       "34         62.77  \n",
       "41         69.76  \n",
       "157        55.03  "
      ]
     },
     "execution_count": 18,
     "metadata": {},
     "output_type": "execute_result"
    }
   ],
   "source": [
    "X_test.head()# 25%"
   ]
  },
  {
   "cell_type": "code",
   "execution_count": 19,
   "id": "dd84fc8e-dac9-44d1-9ded-a39b0066c6b4",
   "metadata": {},
   "outputs": [
    {
     "data": {
      "text/html": [
       "<div>\n",
       "<style scoped>\n",
       "    .dataframe tbody tr th:only-of-type {\n",
       "        vertical-align: middle;\n",
       "    }\n",
       "\n",
       "    .dataframe tbody tr th {\n",
       "        vertical-align: top;\n",
       "    }\n",
       "\n",
       "    .dataframe thead th {\n",
       "        text-align: right;\n",
       "    }\n",
       "</style>\n",
       "<table border=\"1\" class=\"dataframe\">\n",
       "  <thead>\n",
       "    <tr style=\"text-align: right;\">\n",
       "      <th></th>\n",
       "      <th>gender</th>\n",
       "      <th>ssc_percentage</th>\n",
       "      <th>hsc_percentage</th>\n",
       "      <th>hsc_subject</th>\n",
       "      <th>degree_percentage</th>\n",
       "      <th>undergrad_degree</th>\n",
       "      <th>work_experience</th>\n",
       "      <th>emp_test_percentage</th>\n",
       "      <th>specialisation</th>\n",
       "      <th>mba_percent</th>\n",
       "    </tr>\n",
       "  </thead>\n",
       "  <tbody>\n",
       "    <tr>\n",
       "      <th>149</th>\n",
       "      <td>M</td>\n",
       "      <td>44.00</td>\n",
       "      <td>58.0</td>\n",
       "      <td>Arts</td>\n",
       "      <td>55.0</td>\n",
       "      <td>Comm&amp;Mgmt</td>\n",
       "      <td>Yes</td>\n",
       "      <td>64.25</td>\n",
       "      <td>Mkt&amp;HR</td>\n",
       "      <td>58.54</td>\n",
       "    </tr>\n",
       "    <tr>\n",
       "      <th>179</th>\n",
       "      <td>F</td>\n",
       "      <td>77.80</td>\n",
       "      <td>64.0</td>\n",
       "      <td>Science</td>\n",
       "      <td>64.2</td>\n",
       "      <td>Sci&amp;Tech</td>\n",
       "      <td>No</td>\n",
       "      <td>75.50</td>\n",
       "      <td>Mkt&amp;HR</td>\n",
       "      <td>72.14</td>\n",
       "    </tr>\n",
       "    <tr>\n",
       "      <th>134</th>\n",
       "      <td>F</td>\n",
       "      <td>77.44</td>\n",
       "      <td>92.0</td>\n",
       "      <td>Commerce</td>\n",
       "      <td>72.0</td>\n",
       "      <td>Comm&amp;Mgmt</td>\n",
       "      <td>Yes</td>\n",
       "      <td>94.00</td>\n",
       "      <td>Mkt&amp;Fin</td>\n",
       "      <td>67.13</td>\n",
       "    </tr>\n",
       "    <tr>\n",
       "      <th>28</th>\n",
       "      <td>M</td>\n",
       "      <td>76.76</td>\n",
       "      <td>76.5</td>\n",
       "      <td>Commerce</td>\n",
       "      <td>67.5</td>\n",
       "      <td>Comm&amp;Mgmt</td>\n",
       "      <td>Yes</td>\n",
       "      <td>73.35</td>\n",
       "      <td>Mkt&amp;Fin</td>\n",
       "      <td>64.15</td>\n",
       "    </tr>\n",
       "    <tr>\n",
       "      <th>208</th>\n",
       "      <td>F</td>\n",
       "      <td>43.00</td>\n",
       "      <td>60.0</td>\n",
       "      <td>Science</td>\n",
       "      <td>65.0</td>\n",
       "      <td>Comm&amp;Mgmt</td>\n",
       "      <td>No</td>\n",
       "      <td>92.66</td>\n",
       "      <td>Mkt&amp;HR</td>\n",
       "      <td>62.92</td>\n",
       "    </tr>\n",
       "  </tbody>\n",
       "</table>\n",
       "</div>"
      ],
      "text/plain": [
       "    gender  ssc_percentage  hsc_percentage hsc_subject  degree_percentage  \\\n",
       "149      M           44.00            58.0        Arts               55.0   \n",
       "179      F           77.80            64.0     Science               64.2   \n",
       "134      F           77.44            92.0    Commerce               72.0   \n",
       "28       M           76.76            76.5    Commerce               67.5   \n",
       "208      F           43.00            60.0     Science               65.0   \n",
       "\n",
       "    undergrad_degree work_experience  emp_test_percentage specialisation  \\\n",
       "149        Comm&Mgmt             Yes                64.25         Mkt&HR   \n",
       "179         Sci&Tech              No                75.50         Mkt&HR   \n",
       "134        Comm&Mgmt             Yes                94.00        Mkt&Fin   \n",
       "28         Comm&Mgmt             Yes                73.35        Mkt&Fin   \n",
       "208        Comm&Mgmt              No                92.66         Mkt&HR   \n",
       "\n",
       "     mba_percent  \n",
       "149        58.54  \n",
       "179        72.14  \n",
       "134        67.13  \n",
       "28         64.15  \n",
       "208        62.92  "
      ]
     },
     "execution_count": 19,
     "metadata": {},
     "output_type": "execute_result"
    }
   ],
   "source": [
    "X_train.head()# 75%"
   ]
  },
  {
   "cell_type": "code",
   "execution_count": 20,
   "id": "3d91a6bd-e0b9-443f-b29d-9bf59b53db85",
   "metadata": {},
   "outputs": [
    {
     "data": {
      "text/html": [
       "<div>\n",
       "<style scoped>\n",
       "    .dataframe tbody tr th:only-of-type {\n",
       "        vertical-align: middle;\n",
       "    }\n",
       "\n",
       "    .dataframe tbody tr th {\n",
       "        vertical-align: top;\n",
       "    }\n",
       "\n",
       "    .dataframe thead th {\n",
       "        text-align: right;\n",
       "    }\n",
       "</style>\n",
       "<table border=\"1\" class=\"dataframe\">\n",
       "  <thead>\n",
       "    <tr style=\"text-align: right;\">\n",
       "      <th></th>\n",
       "      <th>gender</th>\n",
       "      <th>hsc_subject</th>\n",
       "      <th>undergrad_degree</th>\n",
       "      <th>work_experience</th>\n",
       "      <th>specialisation</th>\n",
       "      <th>status</th>\n",
       "    </tr>\n",
       "  </thead>\n",
       "  <tbody>\n",
       "    <tr>\n",
       "      <th>0</th>\n",
       "      <td>M</td>\n",
       "      <td>Commerce</td>\n",
       "      <td>Sci&amp;Tech</td>\n",
       "      <td>No</td>\n",
       "      <td>Mkt&amp;HR</td>\n",
       "      <td>Placed</td>\n",
       "    </tr>\n",
       "    <tr>\n",
       "      <th>1</th>\n",
       "      <td>M</td>\n",
       "      <td>Science</td>\n",
       "      <td>Sci&amp;Tech</td>\n",
       "      <td>Yes</td>\n",
       "      <td>Mkt&amp;Fin</td>\n",
       "      <td>Placed</td>\n",
       "    </tr>\n",
       "    <tr>\n",
       "      <th>2</th>\n",
       "      <td>M</td>\n",
       "      <td>Arts</td>\n",
       "      <td>Comm&amp;Mgmt</td>\n",
       "      <td>No</td>\n",
       "      <td>Mkt&amp;Fin</td>\n",
       "      <td>Placed</td>\n",
       "    </tr>\n",
       "    <tr>\n",
       "      <th>3</th>\n",
       "      <td>M</td>\n",
       "      <td>Science</td>\n",
       "      <td>Sci&amp;Tech</td>\n",
       "      <td>No</td>\n",
       "      <td>Mkt&amp;HR</td>\n",
       "      <td>Not Placed</td>\n",
       "    </tr>\n",
       "    <tr>\n",
       "      <th>4</th>\n",
       "      <td>M</td>\n",
       "      <td>Commerce</td>\n",
       "      <td>Comm&amp;Mgmt</td>\n",
       "      <td>No</td>\n",
       "      <td>Mkt&amp;Fin</td>\n",
       "      <td>Placed</td>\n",
       "    </tr>\n",
       "  </tbody>\n",
       "</table>\n",
       "</div>"
      ],
      "text/plain": [
       "  gender hsc_subject undergrad_degree work_experience specialisation  \\\n",
       "0      M    Commerce         Sci&Tech              No         Mkt&HR   \n",
       "1      M     Science         Sci&Tech             Yes        Mkt&Fin   \n",
       "2      M        Arts        Comm&Mgmt              No        Mkt&Fin   \n",
       "3      M     Science         Sci&Tech              No         Mkt&HR   \n",
       "4      M    Commerce        Comm&Mgmt              No        Mkt&Fin   \n",
       "\n",
       "       status  \n",
       "0      Placed  \n",
       "1      Placed  \n",
       "2      Placed  \n",
       "3  Not Placed  \n",
       "4      Placed  "
      ]
     },
     "execution_count": 20,
     "metadata": {},
     "output_type": "execute_result"
    }
   ],
   "source": [
    "# select all categorical variables\n",
    "dataset_categorical = dataset.select_dtypes(include=['object'])\n",
    "dataset_categorical.head()"
   ]
  },
  {
   "cell_type": "code",
   "execution_count": 21,
   "id": "0e7c3ced-339e-4f63-a54e-3d9473fdbec3",
   "metadata": {},
   "outputs": [
    {
     "data": {
      "text/html": [
       "<div>\n",
       "<style scoped>\n",
       "    .dataframe tbody tr th:only-of-type {\n",
       "        vertical-align: middle;\n",
       "    }\n",
       "\n",
       "    .dataframe tbody tr th {\n",
       "        vertical-align: top;\n",
       "    }\n",
       "\n",
       "    .dataframe thead th {\n",
       "        text-align: right;\n",
       "    }\n",
       "</style>\n",
       "<table border=\"1\" class=\"dataframe\">\n",
       "  <thead>\n",
       "    <tr style=\"text-align: right;\">\n",
       "      <th></th>\n",
       "      <th>gender</th>\n",
       "      <th>hsc_subject</th>\n",
       "      <th>undergrad_degree</th>\n",
       "      <th>work_experience</th>\n",
       "      <th>specialisation</th>\n",
       "      <th>status</th>\n",
       "    </tr>\n",
       "  </thead>\n",
       "  <tbody>\n",
       "    <tr>\n",
       "      <th>0</th>\n",
       "      <td>1</td>\n",
       "      <td>1</td>\n",
       "      <td>2</td>\n",
       "      <td>0</td>\n",
       "      <td>1</td>\n",
       "      <td>1</td>\n",
       "    </tr>\n",
       "    <tr>\n",
       "      <th>1</th>\n",
       "      <td>1</td>\n",
       "      <td>2</td>\n",
       "      <td>2</td>\n",
       "      <td>1</td>\n",
       "      <td>0</td>\n",
       "      <td>1</td>\n",
       "    </tr>\n",
       "    <tr>\n",
       "      <th>2</th>\n",
       "      <td>1</td>\n",
       "      <td>0</td>\n",
       "      <td>0</td>\n",
       "      <td>0</td>\n",
       "      <td>0</td>\n",
       "      <td>1</td>\n",
       "    </tr>\n",
       "    <tr>\n",
       "      <th>3</th>\n",
       "      <td>1</td>\n",
       "      <td>2</td>\n",
       "      <td>2</td>\n",
       "      <td>0</td>\n",
       "      <td>1</td>\n",
       "      <td>0</td>\n",
       "    </tr>\n",
       "    <tr>\n",
       "      <th>4</th>\n",
       "      <td>1</td>\n",
       "      <td>1</td>\n",
       "      <td>0</td>\n",
       "      <td>0</td>\n",
       "      <td>0</td>\n",
       "      <td>1</td>\n",
       "    </tr>\n",
       "  </tbody>\n",
       "</table>\n",
       "</div>"
      ],
      "text/plain": [
       "   gender  hsc_subject  undergrad_degree  work_experience  specialisation  \\\n",
       "0       1            1                 2                0               1   \n",
       "1       1            2                 2                1               0   \n",
       "2       1            0                 0                0               0   \n",
       "3       1            2                 2                0               1   \n",
       "4       1            1                 0                0               0   \n",
       "\n",
       "   status  \n",
       "0       1  \n",
       "1       1  \n",
       "2       1  \n",
       "3       0  \n",
       "4       1  "
      ]
     },
     "execution_count": 21,
     "metadata": {},
     "output_type": "execute_result"
    }
   ],
   "source": [
    "# Apply Label encoder to dataset_categorical\n",
    "label_encoder = preprocessing.LabelEncoder()\n",
    "dataset_categorical = dataset_categorical.apply(label_encoder.fit_transform)\n",
    "dataset_categorical.head()"
   ]
  },
  {
   "cell_type": "code",
   "execution_count": 22,
   "id": "d740a2ba-54f9-433a-9712-4ae0e8660046",
   "metadata": {},
   "outputs": [
    {
     "data": {
      "text/html": [
       "<div>\n",
       "<style scoped>\n",
       "    .dataframe tbody tr th:only-of-type {\n",
       "        vertical-align: middle;\n",
       "    }\n",
       "\n",
       "    .dataframe tbody tr th {\n",
       "        vertical-align: top;\n",
       "    }\n",
       "\n",
       "    .dataframe thead th {\n",
       "        text-align: right;\n",
       "    }\n",
       "</style>\n",
       "<table border=\"1\" class=\"dataframe\">\n",
       "  <thead>\n",
       "    <tr style=\"text-align: right;\">\n",
       "      <th></th>\n",
       "      <th>ssc_percentage</th>\n",
       "      <th>hsc_percentage</th>\n",
       "      <th>degree_percentage</th>\n",
       "      <th>emp_test_percentage</th>\n",
       "      <th>mba_percent</th>\n",
       "      <th>gender</th>\n",
       "      <th>hsc_subject</th>\n",
       "      <th>undergrad_degree</th>\n",
       "      <th>work_experience</th>\n",
       "      <th>specialisation</th>\n",
       "      <th>status</th>\n",
       "    </tr>\n",
       "  </thead>\n",
       "  <tbody>\n",
       "    <tr>\n",
       "      <th>0</th>\n",
       "      <td>67.00</td>\n",
       "      <td>91.00</td>\n",
       "      <td>58.00</td>\n",
       "      <td>55.0</td>\n",
       "      <td>58.80</td>\n",
       "      <td>1</td>\n",
       "      <td>1</td>\n",
       "      <td>2</td>\n",
       "      <td>0</td>\n",
       "      <td>1</td>\n",
       "      <td>1</td>\n",
       "    </tr>\n",
       "    <tr>\n",
       "      <th>1</th>\n",
       "      <td>79.33</td>\n",
       "      <td>78.33</td>\n",
       "      <td>77.48</td>\n",
       "      <td>86.5</td>\n",
       "      <td>66.28</td>\n",
       "      <td>1</td>\n",
       "      <td>2</td>\n",
       "      <td>2</td>\n",
       "      <td>1</td>\n",
       "      <td>0</td>\n",
       "      <td>1</td>\n",
       "    </tr>\n",
       "    <tr>\n",
       "      <th>2</th>\n",
       "      <td>65.00</td>\n",
       "      <td>68.00</td>\n",
       "      <td>64.00</td>\n",
       "      <td>75.0</td>\n",
       "      <td>57.80</td>\n",
       "      <td>1</td>\n",
       "      <td>0</td>\n",
       "      <td>0</td>\n",
       "      <td>0</td>\n",
       "      <td>0</td>\n",
       "      <td>1</td>\n",
       "    </tr>\n",
       "    <tr>\n",
       "      <th>3</th>\n",
       "      <td>56.00</td>\n",
       "      <td>52.00</td>\n",
       "      <td>52.00</td>\n",
       "      <td>66.0</td>\n",
       "      <td>59.43</td>\n",
       "      <td>1</td>\n",
       "      <td>2</td>\n",
       "      <td>2</td>\n",
       "      <td>0</td>\n",
       "      <td>1</td>\n",
       "      <td>0</td>\n",
       "    </tr>\n",
       "    <tr>\n",
       "      <th>4</th>\n",
       "      <td>85.80</td>\n",
       "      <td>73.60</td>\n",
       "      <td>73.30</td>\n",
       "      <td>96.8</td>\n",
       "      <td>55.50</td>\n",
       "      <td>1</td>\n",
       "      <td>1</td>\n",
       "      <td>0</td>\n",
       "      <td>0</td>\n",
       "      <td>0</td>\n",
       "      <td>1</td>\n",
       "    </tr>\n",
       "  </tbody>\n",
       "</table>\n",
       "</div>"
      ],
      "text/plain": [
       "   ssc_percentage  hsc_percentage  degree_percentage  emp_test_percentage  \\\n",
       "0           67.00           91.00              58.00                 55.0   \n",
       "1           79.33           78.33              77.48                 86.5   \n",
       "2           65.00           68.00              64.00                 75.0   \n",
       "3           56.00           52.00              52.00                 66.0   \n",
       "4           85.80           73.60              73.30                 96.8   \n",
       "\n",
       "   mba_percent  gender  hsc_subject  undergrad_degree  work_experience  \\\n",
       "0        58.80       1            1                 2                0   \n",
       "1        66.28       1            2                 2                1   \n",
       "2        57.80       1            0                 0                0   \n",
       "3        59.43       1            2                 2                0   \n",
       "4        55.50       1            1                 0                0   \n",
       "\n",
       "   specialisation  status  \n",
       "0               1       1  \n",
       "1               0       1  \n",
       "2               0       1  \n",
       "3               1       0  \n",
       "4               0       1  "
      ]
     },
     "execution_count": 22,
     "metadata": {},
     "output_type": "execute_result"
    }
   ],
   "source": [
    "# Concat dataset_categorical with original df\n",
    "dataset = dataset.drop(dataset_categorical.columns, axis=1)# drop categorical\n",
    "dataset = pd.concat([dataset, dataset_categorical], axis=1)# concat for dataframe\n",
    "dataset.head()"
   ]
  },
  {
   "cell_type": "code",
   "execution_count": 23,
   "id": "b096dcad-a123-44e6-b2a3-ad083be0626d",
   "metadata": {},
   "outputs": [
    {
     "name": "stdout",
     "output_type": "stream",
     "text": [
      "<class 'pandas.core.frame.DataFrame'>\n",
      "RangeIndex: 215 entries, 0 to 214\n",
      "Data columns (total 11 columns):\n",
      " #   Column               Non-Null Count  Dtype  \n",
      "---  ------               --------------  -----  \n",
      " 0   ssc_percentage       215 non-null    float64\n",
      " 1   hsc_percentage       215 non-null    float64\n",
      " 2   degree_percentage    215 non-null    float64\n",
      " 3   emp_test_percentage  215 non-null    float64\n",
      " 4   mba_percent          215 non-null    float64\n",
      " 5   gender               215 non-null    int64  \n",
      " 6   hsc_subject          215 non-null    int64  \n",
      " 7   undergrad_degree     215 non-null    int64  \n",
      " 8   work_experience      215 non-null    int64  \n",
      " 9   specialisation       215 non-null    int64  \n",
      " 10  status               215 non-null    int64  \n",
      "dtypes: float64(5), int64(6)\n",
      "memory usage: 18.6 KB\n"
     ]
    }
   ],
   "source": [
    "# look at column types\n",
    "dataset.info()"
   ]
  },
  {
   "cell_type": "code",
   "execution_count": 24,
   "id": "7410dfe5-fd15-4438-8d1e-818a79f12e16",
   "metadata": {},
   "outputs": [
    {
     "data": {
      "text/plain": [
       "0    1\n",
       "1    1\n",
       "2    1\n",
       "3    0\n",
       "4    1\n",
       "Name: status, dtype: category\n",
       "Categories (2, int64): [0, 1]"
      ]
     },
     "execution_count": 24,
     "metadata": {},
     "output_type": "execute_result"
    }
   ],
   "source": [
    "# convert target variable status to categorical\n",
    "dataset['status'] = dataset['status'].astype('category')\n",
    "dataset['status'].head()"
   ]
  },
  {
   "cell_type": "code",
   "execution_count": 25,
   "id": "83ad8dff-8a33-4c7c-8058-6bf7f63cd049",
   "metadata": {},
   "outputs": [
    {
     "data": {
      "text/plain": [
       "1    148\n",
       "0     67\n",
       "Name: status, dtype: int64"
      ]
     },
     "execution_count": 25,
     "metadata": {},
     "output_type": "execute_result"
    }
   ],
   "source": [
    "dataset['status'].value_counts()"
   ]
  },
  {
   "cell_type": "code",
   "execution_count": 26,
   "id": "cd647de7-f4fb-4b5f-8529-1dedee077291",
   "metadata": {},
   "outputs": [
    {
     "name": "stdout",
     "output_type": "stream",
     "text": [
      "<class 'pandas.core.frame.DataFrame'>\n",
      "RangeIndex: 215 entries, 0 to 214\n",
      "Data columns (total 11 columns):\n",
      " #   Column               Non-Null Count  Dtype   \n",
      "---  ------               --------------  -----   \n",
      " 0   ssc_percentage       215 non-null    float64 \n",
      " 1   hsc_percentage       215 non-null    float64 \n",
      " 2   degree_percentage    215 non-null    float64 \n",
      " 3   emp_test_percentage  215 non-null    float64 \n",
      " 4   mba_percent          215 non-null    float64 \n",
      " 5   gender               215 non-null    int64   \n",
      " 6   hsc_subject          215 non-null    int64   \n",
      " 7   undergrad_degree     215 non-null    int64   \n",
      " 8   work_experience      215 non-null    int64   \n",
      " 9   specialisation       215 non-null    int64   \n",
      " 10  status               215 non-null    category\n",
      "dtypes: category(1), float64(5), int64(5)\n",
      "memory usage: 17.3 KB\n"
     ]
    }
   ],
   "source": [
    "dataset.info()"
   ]
  },
  {
   "cell_type": "code",
   "execution_count": 27,
   "id": "45c6b2c5-6c58-47d3-a9a3-143327f671fe",
   "metadata": {},
   "outputs": [
    {
     "data": {
      "text/plain": [
       "DecisionTreeClassifier()"
      ]
     },
     "execution_count": 27,
     "metadata": {},
     "output_type": "execute_result"
    }
   ],
   "source": [
    "# Create Decision Tree classifer object & Print model name\n",
    "dtc = DecisionTreeClassifier()\n",
    "dtc"
   ]
  },
  {
   "cell_type": "code",
   "execution_count": 28,
   "id": "5d2257f4-2bbe-4b4e-b080-2d3fefb54fed",
   "metadata": {},
   "outputs": [],
   "source": [
    "X = dataset.drop(columns='status',axis=1)\n",
    "y = dataset['status']"
   ]
  },
  {
   "cell_type": "code",
   "execution_count": 29,
   "id": "2c1cdbe8-2c61-466e-a65d-a50195804334",
   "metadata": {},
   "outputs": [],
   "source": [
    "# resplitting the data into train and test after Label encoding\n",
    "X_train, X_test, y_train, y_test = train_test_split(X, y, test_size=0.25, random_state=25)"
   ]
  },
  {
   "cell_type": "code",
   "execution_count": 30,
   "id": "ff240ed2-0e8d-4cff-8615-070620aec592",
   "metadata": {},
   "outputs": [],
   "source": [
    "# Train Decision Tree Classifer\n",
    "dtc = dtc.fit(X_train,y_train)"
   ]
  },
  {
   "cell_type": "code",
   "execution_count": 31,
   "id": "8a2beb7f-2bf5-4c51-ba2a-0f306e638a30",
   "metadata": {},
   "outputs": [
    {
     "name": "stdout",
     "output_type": "stream",
     "text": [
      "The accuracy of Decision Tree is:  74.07407407407408 %\n"
     ]
    }
   ],
   "source": [
    "predictions = dtc.predict(X_test)\n",
    "Accuracy = accuracy_score(y_test, predictions)\n",
    "print('The accuracy of Decision Tree is: ',Accuracy*100,'%')"
   ]
  },
  {
   "cell_type": "code",
   "execution_count": 32,
   "id": "6914bac0-2294-49f8-ac5a-af270d8c04d6",
   "metadata": {},
   "outputs": [
    {
     "name": "stdout",
     "output_type": "stream",
     "text": [
      "[[13  2]\n",
      " [12 27]]\n"
     ]
    }
   ],
   "source": [
    "print(confusion_matrix(y_test,predictions))"
   ]
  },
  {
   "cell_type": "code",
   "execution_count": 33,
   "id": "6fd21b16-3ac6-4968-a418-31d14e0bae5f",
   "metadata": {},
   "outputs": [
    {
     "name": "stdout",
     "output_type": "stream",
     "text": [
      "              precision    recall  f1-score   support\n",
      "\n",
      "           0       0.52      0.87      0.65        15\n",
      "           1       0.93      0.69      0.79        39\n",
      "\n",
      "    accuracy                           0.74        54\n",
      "   macro avg       0.73      0.78      0.72        54\n",
      "weighted avg       0.82      0.74      0.75        54\n",
      "\n"
     ]
    }
   ],
   "source": [
    "print(classification_report(y_test,predictions))"
   ]
  },
  {
   "cell_type": "code",
   "execution_count": 34,
   "id": "b9703bca-7a49-4739-b80d-5db4f0c3d56b",
   "metadata": {},
   "outputs": [
    {
     "data": {
      "image/png": "[encoded data removed]",
      "text/plain": [
       "<Figure size 640x480 with 2 Axes>"
      ]
     },
     "metadata": {},
     "output_type": "display_data"
    }
   ],
   "source": [
    "plot_confusion_matrix(dtc, X_test, y_test, cmap='Blues')  \n",
    "plt.show()"
   ]
  },
  {
   "cell_type": "code",
   "execution_count": 35,
   "id": "834f0d29-a96b-41b1-9e5e-0015d90ddbfe",
   "metadata": {},
   "outputs": [
    {
     "data": {
      "text/plain": [
       "StandardScaler()"
      ]
     },
     "execution_count": 35,
     "metadata": {},
     "output_type": "execute_result"
    }
   ],
   "source": [
    "# Use StandardScaler() to improved performance \n",
    "Scaler = StandardScaler()\n",
    "Scaler"
   ]
  },
  {
   "cell_type": "code",
   "execution_count": 36,
   "id": "5261bdf3-81c2-4580-8958-89f0085e4b83",
   "metadata": {},
   "outputs": [],
   "source": [
    "X =Scaler.fit_transform(X)"
   ]
  },
  {
   "cell_type": "code",
   "execution_count": 37,
   "id": "e72448ef-921f-481d-9204-ec0851bd2671",
   "metadata": {},
   "outputs": [],
   "source": [
    "X_train, X_test, y_train, y_test = train_test_split(X, y, test_size=0.25, random_state=25)\n",
    "dtcS = DecisionTreeClassifier()\n",
    "dtcS.fit(X_train,y_train)# Learning \n",
    "y_pred = dtcS.predict(X_test)# Predictions"
   ]
  },
  {
   "cell_type": "code",
   "execution_count": 38,
   "id": "21c08bf0-6ab5-434e-ae59-ad0374881627",
   "metadata": {},
   "outputs": [
    {
     "data": {
      "text/html": [
       "<div>\n",
       "<style scoped>\n",
       "    .dataframe tbody tr th:only-of-type {\n",
       "        vertical-align: middle;\n",
       "    }\n",
       "\n",
       "    .dataframe tbody tr th {\n",
       "        vertical-align: top;\n",
       "    }\n",
       "\n",
       "    .dataframe thead th {\n",
       "        text-align: right;\n",
       "    }\n",
       "</style>\n",
       "<table border=\"1\" class=\"dataframe\">\n",
       "  <thead>\n",
       "    <tr style=\"text-align: right;\">\n",
       "      <th></th>\n",
       "      <th>status</th>\n",
       "      <th>predictions</th>\n",
       "    </tr>\n",
       "  </thead>\n",
       "  <tbody>\n",
       "    <tr>\n",
       "      <th>43</th>\n",
       "      <td>1</td>\n",
       "      <td>1</td>\n",
       "    </tr>\n",
       "    <tr>\n",
       "      <th>180</th>\n",
       "      <td>1</td>\n",
       "      <td>1</td>\n",
       "    </tr>\n",
       "    <tr>\n",
       "      <th>34</th>\n",
       "      <td>0</td>\n",
       "      <td>0</td>\n",
       "    </tr>\n",
       "    <tr>\n",
       "      <th>41</th>\n",
       "      <td>0</td>\n",
       "      <td>0</td>\n",
       "    </tr>\n",
       "    <tr>\n",
       "      <th>157</th>\n",
       "      <td>1</td>\n",
       "      <td>0</td>\n",
       "    </tr>\n",
       "    <tr>\n",
       "      <th>19</th>\n",
       "      <td>1</td>\n",
       "      <td>1</td>\n",
       "    </tr>\n",
       "    <tr>\n",
       "      <th>123</th>\n",
       "      <td>1</td>\n",
       "      <td>1</td>\n",
       "    </tr>\n",
       "    <tr>\n",
       "      <th>176</th>\n",
       "      <td>1</td>\n",
       "      <td>0</td>\n",
       "    </tr>\n",
       "    <tr>\n",
       "      <th>78</th>\n",
       "      <td>1</td>\n",
       "      <td>1</td>\n",
       "    </tr>\n",
       "    <tr>\n",
       "      <th>75</th>\n",
       "      <td>0</td>\n",
       "      <td>0</td>\n",
       "    </tr>\n",
       "    <tr>\n",
       "      <th>173</th>\n",
       "      <td>0</td>\n",
       "      <td>0</td>\n",
       "    </tr>\n",
       "    <tr>\n",
       "      <th>121</th>\n",
       "      <td>1</td>\n",
       "      <td>0</td>\n",
       "    </tr>\n",
       "    <tr>\n",
       "      <th>148</th>\n",
       "      <td>1</td>\n",
       "      <td>1</td>\n",
       "    </tr>\n",
       "    <tr>\n",
       "      <th>91</th>\n",
       "      <td>0</td>\n",
       "      <td>0</td>\n",
       "    </tr>\n",
       "    <tr>\n",
       "      <th>40</th>\n",
       "      <td>1</td>\n",
       "      <td>1</td>\n",
       "    </tr>\n",
       "    <tr>\n",
       "      <th>112</th>\n",
       "      <td>1</td>\n",
       "      <td>0</td>\n",
       "    </tr>\n",
       "    <tr>\n",
       "      <th>182</th>\n",
       "      <td>0</td>\n",
       "      <td>1</td>\n",
       "    </tr>\n",
       "    <tr>\n",
       "      <th>49</th>\n",
       "      <td>0</td>\n",
       "      <td>0</td>\n",
       "    </tr>\n",
       "    <tr>\n",
       "      <th>66</th>\n",
       "      <td>1</td>\n",
       "      <td>1</td>\n",
       "    </tr>\n",
       "    <tr>\n",
       "      <th>192</th>\n",
       "      <td>1</td>\n",
       "      <td>0</td>\n",
       "    </tr>\n",
       "    <tr>\n",
       "      <th>206</th>\n",
       "      <td>0</td>\n",
       "      <td>0</td>\n",
       "    </tr>\n",
       "    <tr>\n",
       "      <th>58</th>\n",
       "      <td>1</td>\n",
       "      <td>1</td>\n",
       "    </tr>\n",
       "    <tr>\n",
       "      <th>124</th>\n",
       "      <td>1</td>\n",
       "      <td>1</td>\n",
       "    </tr>\n",
       "    <tr>\n",
       "      <th>81</th>\n",
       "      <td>1</td>\n",
       "      <td>0</td>\n",
       "    </tr>\n",
       "    <tr>\n",
       "      <th>70</th>\n",
       "      <td>1</td>\n",
       "      <td>1</td>\n",
       "    </tr>\n",
       "    <tr>\n",
       "      <th>155</th>\n",
       "      <td>0</td>\n",
       "      <td>1</td>\n",
       "    </tr>\n",
       "    <tr>\n",
       "      <th>93</th>\n",
       "      <td>0</td>\n",
       "      <td>0</td>\n",
       "    </tr>\n",
       "    <tr>\n",
       "      <th>10</th>\n",
       "      <td>1</td>\n",
       "      <td>1</td>\n",
       "    </tr>\n",
       "    <tr>\n",
       "      <th>194</th>\n",
       "      <td>0</td>\n",
       "      <td>0</td>\n",
       "    </tr>\n",
       "    <tr>\n",
       "      <th>12</th>\n",
       "      <td>0</td>\n",
       "      <td>0</td>\n",
       "    </tr>\n",
       "    <tr>\n",
       "      <th>128</th>\n",
       "      <td>1</td>\n",
       "      <td>1</td>\n",
       "    </tr>\n",
       "    <tr>\n",
       "      <th>85</th>\n",
       "      <td>1</td>\n",
       "      <td>1</td>\n",
       "    </tr>\n",
       "    <tr>\n",
       "      <th>108</th>\n",
       "      <td>1</td>\n",
       "      <td>1</td>\n",
       "    </tr>\n",
       "    <tr>\n",
       "      <th>96</th>\n",
       "      <td>1</td>\n",
       "      <td>1</td>\n",
       "    </tr>\n",
       "    <tr>\n",
       "      <th>32</th>\n",
       "      <td>1</td>\n",
       "      <td>0</td>\n",
       "    </tr>\n",
       "    <tr>\n",
       "      <th>107</th>\n",
       "      <td>1</td>\n",
       "      <td>1</td>\n",
       "    </tr>\n",
       "    <tr>\n",
       "      <th>26</th>\n",
       "      <td>1</td>\n",
       "      <td>1</td>\n",
       "    </tr>\n",
       "    <tr>\n",
       "      <th>37</th>\n",
       "      <td>1</td>\n",
       "      <td>1</td>\n",
       "    </tr>\n",
       "    <tr>\n",
       "      <th>161</th>\n",
       "      <td>0</td>\n",
       "      <td>0</td>\n",
       "    </tr>\n",
       "    <tr>\n",
       "      <th>199</th>\n",
       "      <td>1</td>\n",
       "      <td>1</td>\n",
       "    </tr>\n",
       "    <tr>\n",
       "      <th>6</th>\n",
       "      <td>0</td>\n",
       "      <td>0</td>\n",
       "    </tr>\n",
       "    <tr>\n",
       "      <th>193</th>\n",
       "      <td>1</td>\n",
       "      <td>0</td>\n",
       "    </tr>\n",
       "    <tr>\n",
       "      <th>77</th>\n",
       "      <td>1</td>\n",
       "      <td>1</td>\n",
       "    </tr>\n",
       "    <tr>\n",
       "      <th>185</th>\n",
       "      <td>1</td>\n",
       "      <td>1</td>\n",
       "    </tr>\n",
       "    <tr>\n",
       "      <th>207</th>\n",
       "      <td>1</td>\n",
       "      <td>1</td>\n",
       "    </tr>\n",
       "    <tr>\n",
       "      <th>102</th>\n",
       "      <td>1</td>\n",
       "      <td>1</td>\n",
       "    </tr>\n",
       "    <tr>\n",
       "      <th>56</th>\n",
       "      <td>1</td>\n",
       "      <td>0</td>\n",
       "    </tr>\n",
       "    <tr>\n",
       "      <th>113</th>\n",
       "      <td>1</td>\n",
       "      <td>1</td>\n",
       "    </tr>\n",
       "    <tr>\n",
       "      <th>200</th>\n",
       "      <td>1</td>\n",
       "      <td>0</td>\n",
       "    </tr>\n",
       "    <tr>\n",
       "      <th>24</th>\n",
       "      <td>1</td>\n",
       "      <td>0</td>\n",
       "    </tr>\n",
       "    <tr>\n",
       "      <th>35</th>\n",
       "      <td>1</td>\n",
       "      <td>1</td>\n",
       "    </tr>\n",
       "    <tr>\n",
       "      <th>188</th>\n",
       "      <td>0</td>\n",
       "      <td>0</td>\n",
       "    </tr>\n",
       "    <tr>\n",
       "      <th>119</th>\n",
       "      <td>1</td>\n",
       "      <td>1</td>\n",
       "    </tr>\n",
       "    <tr>\n",
       "      <th>30</th>\n",
       "      <td>1</td>\n",
       "      <td>0</td>\n",
       "    </tr>\n",
       "  </tbody>\n",
       "</table>\n",
       "</div>"
      ],
      "text/plain": [
       "    status  predictions\n",
       "43       1            1\n",
       "180      1            1\n",
       "34       0            0\n",
       "41       0            0\n",
       "157      1            0\n",
       "19       1            1\n",
       "123      1            1\n",
       "176      1            0\n",
       "78       1            1\n",
       "75       0            0\n",
       "173      0            0\n",
       "121      1            0\n",
       "148      1            1\n",
       "91       0            0\n",
       "40       1            1\n",
       "112      1            0\n",
       "182      0            1\n",
       "49       0            0\n",
       "66       1            1\n",
       "192      1            0\n",
       "206      0            0\n",
       "58       1            1\n",
       "124      1            1\n",
       "81       1            0\n",
       "70       1            1\n",
       "155      0            1\n",
       "93       0            0\n",
       "10       1            1\n",
       "194      0            0\n",
       "12       0            0\n",
       "128      1            1\n",
       "85       1            1\n",
       "108      1            1\n",
       "96       1            1\n",
       "32       1            0\n",
       "107      1            1\n",
       "26       1            1\n",
       "37       1            1\n",
       "161      0            0\n",
       "199      1            1\n",
       "6        0            0\n",
       "193      1            0\n",
       "77       1            1\n",
       "185      1            1\n",
       "207      1            1\n",
       "102      1            1\n",
       "56       1            0\n",
       "113      1            1\n",
       "200      1            0\n",
       "24       1            0\n",
       "35       1            1\n",
       "188      0            0\n",
       "119      1            1\n",
       "30       1            0"
      ]
     },
     "execution_count": 38,
     "metadata": {},
     "output_type": "execute_result"
    }
   ],
   "source": [
    "comp_result = pd.DataFrame(y_test)\n",
    "comp_result['predictions']= predictions\n",
    "comp_result"
   ]
  },
  {
   "cell_type": "code",
   "execution_count": 39,
   "id": "85082340-2624-4795-9769-c0555da9b29b",
   "metadata": {},
   "outputs": [
    {
     "name": "stdout",
     "output_type": "stream",
     "text": [
      "The accuracy of Decision Tree after standard scaler is:  74.07407407407408 %\n"
     ]
    }
   ],
   "source": [
    "predictions = dtcS.predict(X_test)\n",
    "Accuracy = accuracy_score(y_test, predictions)\n",
    "print('The accuracy of Decision Tree after standard scaler is: ',Accuracy*100,'%')"
   ]
  },
  {
   "cell_type": "code",
   "execution_count": 40,
   "id": "c05710e1-551c-40cf-9815-2587c04e365a",
   "metadata": {},
   "outputs": [
    {
     "name": "stdout",
     "output_type": "stream",
     "text": [
      "[[12  3]\n",
      " [11 28]]\n"
     ]
    }
   ],
   "source": [
    "print(confusion_matrix(y_test,predictions))"
   ]
  },
  {
   "cell_type": "code",
   "execution_count": 41,
   "id": "bc987915-5352-4da8-ae59-af8eb8cf6e4d",
   "metadata": {},
   "outputs": [
    {
     "name": "stdout",
     "output_type": "stream",
     "text": [
      "              precision    recall  f1-score   support\n",
      "\n",
      "           0       0.52      0.80      0.63        15\n",
      "           1       0.90      0.72      0.80        39\n",
      "\n",
      "    accuracy                           0.74        54\n",
      "   macro avg       0.71      0.76      0.72        54\n",
      "weighted avg       0.80      0.74      0.75        54\n",
      "\n"
     ]
    }
   ],
   "source": [
    "print(classification_report(y_test, y_pred))"
   ]
  },
  {
   "cell_type": "code",
   "execution_count": 42,
   "id": "b2da620a-e187-4d15-bb22-372a52d5e66a",
   "metadata": {},
   "outputs": [
    {
     "data": {
      "image/png": "[encoded data removed]",
      "text/plain": [
       "<Figure size 640x480 with 2 Axes>"
      ]
     },
     "metadata": {},
     "output_type": "display_data"
    }
   ],
   "source": [
    "plot_confusion_matrix(dtcS, X_test, y_test, cmap='Blues')  \n",
    "plt.show()"
   ]
  },
  {
   "cell_type": "code",
   "execution_count": 43,
   "id": "1f95e86b-e0ed-4eb4-b21c-214c7967571d",
   "metadata": {},
   "outputs": [],
   "source": [
    "X_train, X_test, Y_train, Y_test = train_test_split(X, y, test_size = 0.3, random_state = 100)\n",
    "scaler = StandardScaler()\n",
    "X_train = scaler.fit_transform(X_train)\n",
    "X_test = scaler.transform(X_test)"
   ]
  },
  {
   "cell_type": "code",
   "execution_count": 44,
   "id": "582b288f-750c-46d0-ac97-e8746f9ada43",
   "metadata": {},
   "outputs": [
    {
     "data": {
      "text/plain": [
       "0.8307692307692308"
      ]
     },
     "execution_count": 44,
     "metadata": {},
     "output_type": "execute_result"
    }
   ],
   "source": [
    "adaboost = AdaBoostClassifier(n_estimators = 50, learning_rate = 0.2).fit(X_train, Y_train)\n",
    "score = adaboost.score(X_test, Y_test)\n",
    "score"
   ]
  },
  {
   "cell_type": "code",
   "execution_count": 45,
   "id": "2f0d1536-7cbe-4652-b5b7-d2fad9172f20",
   "metadata": {},
   "outputs": [
    {
     "data": {
      "text/plain": [
       "0.8615384615384616"
      ]
     },
     "execution_count": 45,
     "metadata": {},
     "output_type": "execute_result"
    }
   ],
   "source": [
    "xgboost = XGBClassifier(n_estimators = 1000, learning_rate = 0.05).fit(X_train, Y_train, early_stopping_rounds = 5, eval_set = [(X_test, Y_test)],verbose = False)\n",
    "score_xgb = xgboost.score(X_test,Y_test)\n",
    "score_xgb"
   ]
  },
  {
   "cell_type": "code",
   "execution_count": 46,
   "id": "800be82d-1060-435a-af49-5307343a7f1d",
   "metadata": {},
   "outputs": [],
   "source": [
    "# from xgboost import XGBClassifier\n",
    "X_train, X_test, y_train, y_test = train_test_split(X, y, test_size=0.25, random_state=25)"
   ]
  },
  {
   "cell_type": "code",
   "execution_count": 47,
   "id": "e9e27f11-fedc-419b-a38f-6fa9b69cc0cc",
   "metadata": {},
   "outputs": [
    {
     "data": {
      "text/plain": [
       "XGBClassifier(base_score=None, booster=None, callbacks=None,\n",
       "              colsample_bylevel=None, colsample_bynode=None,\n",
       "              colsample_bytree=None, early_stopping_rounds=None,\n",
       "              enable_categorical=False, eval_metric=None, feature_types=None,\n",
       "              gamma=None, gpu_id=None, grow_policy=None, importance_type=None,\n",
       "              interaction_constraints=None, learning_rate=None, max_bin=None,\n",
       "              max_cat_threshold=None, max_cat_to_onehot=None,\n",
       "              max_delta_step=None, max_depth=None, max_leaves=None,\n",
       "              min_child_weight=None, missing=nan, monotone_constraints=None,\n",
       "              n_estimators=100, n_jobs=None, num_parallel_tree=None,\n",
       "              predictor=None, random_state=None, ...)"
      ]
     },
     "execution_count": 47,
     "metadata": {},
     "output_type": "execute_result"
    }
   ],
   "source": [
    "model = XGBClassifier()\n",
    "model.fit(X_train, y_train)"
   ]
  },
  {
   "cell_type": "code",
   "execution_count": 48,
   "id": "b8549124-6db5-4ba2-9854-6ab0626aa308",
   "metadata": {},
   "outputs": [],
   "source": [
    "y_pred = model.predict(X_test)\n",
    "prediction = [round(value) for value in y_pred ]"
   ]
  },
  {
   "cell_type": "code",
   "execution_count": 49,
   "id": "9d96caff-bd53-426a-b969-c6a13dc20075",
   "metadata": {},
   "outputs": [
    {
     "name": "stdout",
     "output_type": "stream",
     "text": [
      "The accuracy of xgboost after standard scaler is:  87.03703703703704 %\n"
     ]
    }
   ],
   "source": [
    "accuracy = accuracy_score(y_test, prediction)\n",
    "print('The accuracy of xgboost after standard scaler is: ',accuracy*100,'%')"
   ]
  },
  {
   "cell_type": "code",
   "execution_count": 51,
   "id": "444a4dea-e4bf-477a-8fa1-66323aeda98c",
   "metadata": {},
   "outputs": [
    {
     "name": "stdout",
     "output_type": "stream",
     "text": [
      "              precision    recall  f1-score   support\n",
      "\n",
      "           0       0.70      0.93      0.80        15\n",
      "           1       0.97      0.85      0.90        39\n",
      "\n",
      "    accuracy                           0.87        54\n",
      "   macro avg       0.84      0.89      0.85        54\n",
      "weighted avg       0.90      0.87      0.88        54\n",
      "\n"
     ]
    }
   ],
   "source": [
    "print(classification_report(y_test, y_pred))"
   ]
  },
  {
   "cell_type": "code",
   "execution_count": 52,
   "id": "4997fa6b-6b0b-4309-937f-577966abfa6d",
   "metadata": {},
   "outputs": [
    {
     "data": {
      "image/png": "[encoded data removed]",
      "text/plain": [
       "<Figure size 640x480 with 2 Axes>"
      ]
     },
     "metadata": {},
     "output_type": "display_data"
    }
   ],
   "source": [
    "plot_confusion_matrix(model, X_test, y_test, cmap='Blues')  \n",
    "plt.show()"
   ]
  },
  {
   "cell_type": "code",
   "execution_count": null,
   "id": "87543e90-0fb6-4348-9be8-0fa43b59f23e",
   "metadata": {},
   "outputs": [],
   "source": []
  }
 ],
 "metadata": {
  "kernelspec": {
   "display_name": "Python 3 (ipykernel)",
   "language": "python",
   "name": "python3"
  },
  "language_info": {
   "codemirror_mode": {
    "name": "ipython",
    "version": 3
   },
   "file_extension": ".py",
   "mimetype": "text/x-python",
   "name": "python",
   "nbconvert_exporter": "python",
   "pygments_lexer": "ipython3",
   "version": "3.9.13"
  }
 },
 "nbformat": 4,
 "nbformat_minor": 5
}
